{
 "cells": [
  {
   "cell_type": "code",
   "execution_count": 4,
   "id": "250cfe27",
   "metadata": {},
   "outputs": [],
   "source": [
    "import pandas as pd"
   ]
  },
  {
   "cell_type": "code",
   "execution_count": 5,
   "id": "bbb4d4ad",
   "metadata": {},
   "outputs": [],
   "source": [
    "df=pd.read_excel(\"Heart Disease.csv.xlsx\")"
   ]
  },
  {
   "cell_type": "code",
   "execution_count": 6,
   "id": "ccb6d649",
   "metadata": {},
   "outputs": [
    {
     "data": {
      "text/html": [
       "<div>\n",
       "<style scoped>\n",
       "    .dataframe tbody tr th:only-of-type {\n",
       "        vertical-align: middle;\n",
       "    }\n",
       "\n",
       "    .dataframe tbody tr th {\n",
       "        vertical-align: top;\n",
       "    }\n",
       "\n",
       "    .dataframe thead th {\n",
       "        text-align: right;\n",
       "    }\n",
       "</style>\n",
       "<table border=\"1\" class=\"dataframe\">\n",
       "  <thead>\n",
       "    <tr style=\"text-align: right;\">\n",
       "      <th></th>\n",
       "      <th>HeartDisease</th>\n",
       "      <th>BMI</th>\n",
       "      <th>Smoking</th>\n",
       "      <th>AlcoholDrinking</th>\n",
       "      <th>Stroke</th>\n",
       "      <th>PhysicalHealth</th>\n",
       "      <th>MentalHealth</th>\n",
       "      <th>DiffWalking</th>\n",
       "      <th>Sex</th>\n",
       "      <th>AgeCategory</th>\n",
       "      <th>Race</th>\n",
       "      <th>Diabetic</th>\n",
       "      <th>PhysicalActivity</th>\n",
       "      <th>GenHealth</th>\n",
       "      <th>SleepTime</th>\n",
       "      <th>Asthma</th>\n",
       "      <th>KidneyDisease</th>\n",
       "      <th>SkinCancer</th>\n",
       "    </tr>\n",
       "  </thead>\n",
       "  <tbody>\n",
       "    <tr>\n",
       "      <th>0</th>\n",
       "      <td>No</td>\n",
       "      <td>16.60</td>\n",
       "      <td>Yes</td>\n",
       "      <td>No</td>\n",
       "      <td>No</td>\n",
       "      <td>3.0</td>\n",
       "      <td>30.0</td>\n",
       "      <td>No</td>\n",
       "      <td>Female</td>\n",
       "      <td>55-59</td>\n",
       "      <td>White</td>\n",
       "      <td>Yes</td>\n",
       "      <td>Yes</td>\n",
       "      <td>Very good</td>\n",
       "      <td>5.0</td>\n",
       "      <td>Yes</td>\n",
       "      <td>No</td>\n",
       "      <td>Yes</td>\n",
       "    </tr>\n",
       "    <tr>\n",
       "      <th>1</th>\n",
       "      <td>No</td>\n",
       "      <td>20.34</td>\n",
       "      <td>No</td>\n",
       "      <td>No</td>\n",
       "      <td>Yes</td>\n",
       "      <td>0.0</td>\n",
       "      <td>0.0</td>\n",
       "      <td>No</td>\n",
       "      <td>Female</td>\n",
       "      <td>80 or older</td>\n",
       "      <td>White</td>\n",
       "      <td>No</td>\n",
       "      <td>Yes</td>\n",
       "      <td>Very good</td>\n",
       "      <td>7.0</td>\n",
       "      <td>No</td>\n",
       "      <td>No</td>\n",
       "      <td>No</td>\n",
       "    </tr>\n",
       "    <tr>\n",
       "      <th>2</th>\n",
       "      <td>No</td>\n",
       "      <td>26.58</td>\n",
       "      <td>Yes</td>\n",
       "      <td>No</td>\n",
       "      <td>No</td>\n",
       "      <td>20.0</td>\n",
       "      <td>30.0</td>\n",
       "      <td>No</td>\n",
       "      <td>Male</td>\n",
       "      <td>65-69</td>\n",
       "      <td>White</td>\n",
       "      <td>Yes</td>\n",
       "      <td>Yes</td>\n",
       "      <td>Fair</td>\n",
       "      <td>8.0</td>\n",
       "      <td>Yes</td>\n",
       "      <td>No</td>\n",
       "      <td>No</td>\n",
       "    </tr>\n",
       "    <tr>\n",
       "      <th>3</th>\n",
       "      <td>No</td>\n",
       "      <td>24.21</td>\n",
       "      <td>No</td>\n",
       "      <td>No</td>\n",
       "      <td>No</td>\n",
       "      <td>0.0</td>\n",
       "      <td>0.0</td>\n",
       "      <td>No</td>\n",
       "      <td>Female</td>\n",
       "      <td>75-79</td>\n",
       "      <td>White</td>\n",
       "      <td>No</td>\n",
       "      <td>No</td>\n",
       "      <td>Good</td>\n",
       "      <td>6.0</td>\n",
       "      <td>No</td>\n",
       "      <td>No</td>\n",
       "      <td>Yes</td>\n",
       "    </tr>\n",
       "    <tr>\n",
       "      <th>4</th>\n",
       "      <td>No</td>\n",
       "      <td>23.71</td>\n",
       "      <td>No</td>\n",
       "      <td>No</td>\n",
       "      <td>No</td>\n",
       "      <td>28.0</td>\n",
       "      <td>0.0</td>\n",
       "      <td>Yes</td>\n",
       "      <td>Female</td>\n",
       "      <td>40-44</td>\n",
       "      <td>White</td>\n",
       "      <td>No</td>\n",
       "      <td>Yes</td>\n",
       "      <td>Very good</td>\n",
       "      <td>8.0</td>\n",
       "      <td>No</td>\n",
       "      <td>No</td>\n",
       "      <td>No</td>\n",
       "    </tr>\n",
       "  </tbody>\n",
       "</table>\n",
       "</div>"
      ],
      "text/plain": [
       "  HeartDisease    BMI Smoking AlcoholDrinking Stroke  PhysicalHealth  \\\n",
       "0           No  16.60     Yes              No     No             3.0   \n",
       "1           No  20.34      No              No    Yes             0.0   \n",
       "2           No  26.58     Yes              No     No            20.0   \n",
       "3           No  24.21      No              No     No             0.0   \n",
       "4           No  23.71      No              No     No            28.0   \n",
       "\n",
       "   MentalHealth DiffWalking     Sex  AgeCategory   Race Diabetic  \\\n",
       "0          30.0          No  Female        55-59  White      Yes   \n",
       "1           0.0          No  Female  80 or older  White       No   \n",
       "2          30.0          No    Male        65-69  White      Yes   \n",
       "3           0.0          No  Female        75-79  White       No   \n",
       "4           0.0         Yes  Female        40-44  White       No   \n",
       "\n",
       "  PhysicalActivity  GenHealth  SleepTime Asthma KidneyDisease SkinCancer  \n",
       "0              Yes  Very good        5.0    Yes            No        Yes  \n",
       "1              Yes  Very good        7.0     No            No         No  \n",
       "2              Yes       Fair        8.0    Yes            No         No  \n",
       "3               No       Good        6.0     No            No        Yes  \n",
       "4              Yes  Very good        8.0     No            No         No  "
      ]
     },
     "execution_count": 6,
     "metadata": {},
     "output_type": "execute_result"
    }
   ],
   "source": [
    "df.head()"
   ]
  },
  {
   "cell_type": "code",
   "execution_count": 7,
   "id": "4dc5923a",
   "metadata": {},
   "outputs": [
    {
     "name": "stdout",
     "output_type": "stream",
     "text": [
      "<class 'pandas.core.frame.DataFrame'>\n",
      "RangeIndex: 319795 entries, 0 to 319794\n",
      "Data columns (total 18 columns):\n",
      " #   Column            Non-Null Count   Dtype  \n",
      "---  ------            --------------   -----  \n",
      " 0   HeartDisease      319795 non-null  object \n",
      " 1   BMI               319795 non-null  float64\n",
      " 2   Smoking           319795 non-null  object \n",
      " 3   AlcoholDrinking   319795 non-null  object \n",
      " 4   Stroke            319795 non-null  object \n",
      " 5   PhysicalHealth    319795 non-null  float64\n",
      " 6   MentalHealth      319795 non-null  float64\n",
      " 7   DiffWalking       319795 non-null  object \n",
      " 8   Sex               319795 non-null  object \n",
      " 9   AgeCategory       319795 non-null  object \n",
      " 10  Race              319795 non-null  object \n",
      " 11  Diabetic          319795 non-null  object \n",
      " 12  PhysicalActivity  319795 non-null  object \n",
      " 13  GenHealth         319795 non-null  object \n",
      " 14  SleepTime         319795 non-null  float64\n",
      " 15  Asthma            319795 non-null  object \n",
      " 16  KidneyDisease     319795 non-null  object \n",
      " 17  SkinCancer        319795 non-null  object \n",
      "dtypes: float64(4), object(14)\n",
      "memory usage: 43.9+ MB\n"
     ]
    }
   ],
   "source": [
    "df.info()"
   ]
  },
  {
   "cell_type": "code",
   "execution_count": 8,
   "id": "06f2fc5d",
   "metadata": {},
   "outputs": [
    {
     "data": {
      "text/plain": [
       "(319795, 18)"
      ]
     },
     "execution_count": 8,
     "metadata": {},
     "output_type": "execute_result"
    }
   ],
   "source": [
    "df.shape"
   ]
  },
  {
   "cell_type": "code",
   "execution_count": 9,
   "id": "add28e93",
   "metadata": {},
   "outputs": [
    {
     "data": {
      "text/plain": [
       "HeartDisease        0\n",
       "BMI                 0\n",
       "Smoking             0\n",
       "AlcoholDrinking     0\n",
       "Stroke              0\n",
       "PhysicalHealth      0\n",
       "MentalHealth        0\n",
       "DiffWalking         0\n",
       "Sex                 0\n",
       "AgeCategory         0\n",
       "Race                0\n",
       "Diabetic            0\n",
       "PhysicalActivity    0\n",
       "GenHealth           0\n",
       "SleepTime           0\n",
       "Asthma              0\n",
       "KidneyDisease       0\n",
       "SkinCancer          0\n",
       "dtype: int64"
      ]
     },
     "execution_count": 9,
     "metadata": {},
     "output_type": "execute_result"
    }
   ],
   "source": [
    "df.isnull().sum()"
   ]
  },
  {
   "cell_type": "markdown",
   "id": "bb5faab7",
   "metadata": {},
   "source": [
    "## Encoding"
   ]
  },
  {
   "cell_type": "code",
   "execution_count": 10,
   "id": "c4d8f354",
   "metadata": {},
   "outputs": [],
   "source": [
    "from sklearn.preprocessing import LabelEncoder"
   ]
  },
  {
   "cell_type": "code",
   "execution_count": 11,
   "id": "70ea6e1e",
   "metadata": {},
   "outputs": [],
   "source": [
    "le=LabelEncoder()"
   ]
  },
  {
   "cell_type": "code",
   "execution_count": 12,
   "id": "1273838b",
   "metadata": {},
   "outputs": [],
   "source": [
    "df['HeartDisease']=le.fit_transform(df['HeartDisease'])\n",
    "df['BMI']=le.fit_transform(df['BMI'])\n",
    "df['Smoking']=le.fit_transform(df['Smoking'])\n",
    "df['AlcoholDrinking']=le.fit_transform(df['AlcoholDrinking'])\n",
    "df['Stroke']=le.fit_transform(df['Stroke'])\n",
    "df['PhysicalHealth']=le.fit_transform(df['PhysicalHealth'])\n",
    "df['MentalHealth']=le.fit_transform(df['MentalHealth'])\n",
    "df['DiffWalking']=le.fit_transform(df['DiffWalking'])\n",
    "df['Sex']=le.fit_transform(df['Sex'])\n",
    "df['AgeCategory']=le.fit_transform(df['AgeCategory'])\n",
    "df['Race']=le.fit_transform(df['Race'])\n",
    "df['Diabetic']=le.fit_transform(df['Diabetic'])\n",
    "df['PhysicalActivity']=le.fit_transform(df['PhysicalActivity'])\n",
    "df['GenHealth']=le.fit_transform(df['GenHealth'])\n",
    "df['SleepTime']=le.fit_transform(df['SleepTime'])\n",
    "df['Asthma']=le.fit_transform(df['Asthma'])\n",
    "df['KidneyDisease']=le.fit_transform(df['KidneyDisease'])\n",
    "df['SkinCancer']=le.fit_transform(df['SkinCancer'])"
   ]
  },
  {
   "cell_type": "code",
   "execution_count": 13,
   "id": "c1cbd6d0",
   "metadata": {},
   "outputs": [
    {
     "data": {
      "text/html": [
       "<div>\n",
       "<style scoped>\n",
       "    .dataframe tbody tr th:only-of-type {\n",
       "        vertical-align: middle;\n",
       "    }\n",
       "\n",
       "    .dataframe tbody tr th {\n",
       "        vertical-align: top;\n",
       "    }\n",
       "\n",
       "    .dataframe thead th {\n",
       "        text-align: right;\n",
       "    }\n",
       "</style>\n",
       "<table border=\"1\" class=\"dataframe\">\n",
       "  <thead>\n",
       "    <tr style=\"text-align: right;\">\n",
       "      <th></th>\n",
       "      <th>HeartDisease</th>\n",
       "      <th>BMI</th>\n",
       "      <th>Smoking</th>\n",
       "      <th>AlcoholDrinking</th>\n",
       "      <th>Stroke</th>\n",
       "      <th>PhysicalHealth</th>\n",
       "      <th>MentalHealth</th>\n",
       "      <th>DiffWalking</th>\n",
       "      <th>Sex</th>\n",
       "      <th>AgeCategory</th>\n",
       "      <th>Race</th>\n",
       "      <th>Diabetic</th>\n",
       "      <th>PhysicalActivity</th>\n",
       "      <th>GenHealth</th>\n",
       "      <th>SleepTime</th>\n",
       "      <th>Asthma</th>\n",
       "      <th>KidneyDisease</th>\n",
       "      <th>SkinCancer</th>\n",
       "    </tr>\n",
       "  </thead>\n",
       "  <tbody>\n",
       "    <tr>\n",
       "      <th>0</th>\n",
       "      <td>0</td>\n",
       "      <td>223</td>\n",
       "      <td>1</td>\n",
       "      <td>0</td>\n",
       "      <td>0</td>\n",
       "      <td>3</td>\n",
       "      <td>30</td>\n",
       "      <td>0</td>\n",
       "      <td>0</td>\n",
       "      <td>7</td>\n",
       "      <td>5</td>\n",
       "      <td>2</td>\n",
       "      <td>1</td>\n",
       "      <td>4</td>\n",
       "      <td>4</td>\n",
       "      <td>1</td>\n",
       "      <td>0</td>\n",
       "      <td>1</td>\n",
       "    </tr>\n",
       "    <tr>\n",
       "      <th>1</th>\n",
       "      <td>0</td>\n",
       "      <td>524</td>\n",
       "      <td>0</td>\n",
       "      <td>0</td>\n",
       "      <td>1</td>\n",
       "      <td>0</td>\n",
       "      <td>0</td>\n",
       "      <td>0</td>\n",
       "      <td>0</td>\n",
       "      <td>12</td>\n",
       "      <td>5</td>\n",
       "      <td>0</td>\n",
       "      <td>1</td>\n",
       "      <td>4</td>\n",
       "      <td>6</td>\n",
       "      <td>0</td>\n",
       "      <td>0</td>\n",
       "      <td>0</td>\n",
       "    </tr>\n",
       "    <tr>\n",
       "      <th>2</th>\n",
       "      <td>0</td>\n",
       "      <td>1103</td>\n",
       "      <td>1</td>\n",
       "      <td>0</td>\n",
       "      <td>0</td>\n",
       "      <td>20</td>\n",
       "      <td>30</td>\n",
       "      <td>0</td>\n",
       "      <td>1</td>\n",
       "      <td>9</td>\n",
       "      <td>5</td>\n",
       "      <td>2</td>\n",
       "      <td>1</td>\n",
       "      <td>1</td>\n",
       "      <td>7</td>\n",
       "      <td>1</td>\n",
       "      <td>0</td>\n",
       "      <td>0</td>\n",
       "    </tr>\n",
       "    <tr>\n",
       "      <th>3</th>\n",
       "      <td>0</td>\n",
       "      <td>883</td>\n",
       "      <td>0</td>\n",
       "      <td>0</td>\n",
       "      <td>0</td>\n",
       "      <td>0</td>\n",
       "      <td>0</td>\n",
       "      <td>0</td>\n",
       "      <td>0</td>\n",
       "      <td>11</td>\n",
       "      <td>5</td>\n",
       "      <td>0</td>\n",
       "      <td>0</td>\n",
       "      <td>2</td>\n",
       "      <td>5</td>\n",
       "      <td>0</td>\n",
       "      <td>0</td>\n",
       "      <td>1</td>\n",
       "    </tr>\n",
       "    <tr>\n",
       "      <th>4</th>\n",
       "      <td>0</td>\n",
       "      <td>837</td>\n",
       "      <td>0</td>\n",
       "      <td>0</td>\n",
       "      <td>0</td>\n",
       "      <td>28</td>\n",
       "      <td>0</td>\n",
       "      <td>1</td>\n",
       "      <td>0</td>\n",
       "      <td>4</td>\n",
       "      <td>5</td>\n",
       "      <td>0</td>\n",
       "      <td>1</td>\n",
       "      <td>4</td>\n",
       "      <td>7</td>\n",
       "      <td>0</td>\n",
       "      <td>0</td>\n",
       "      <td>0</td>\n",
       "    </tr>\n",
       "    <tr>\n",
       "      <th>...</th>\n",
       "      <td>...</td>\n",
       "      <td>...</td>\n",
       "      <td>...</td>\n",
       "      <td>...</td>\n",
       "      <td>...</td>\n",
       "      <td>...</td>\n",
       "      <td>...</td>\n",
       "      <td>...</td>\n",
       "      <td>...</td>\n",
       "      <td>...</td>\n",
       "      <td>...</td>\n",
       "      <td>...</td>\n",
       "      <td>...</td>\n",
       "      <td>...</td>\n",
       "      <td>...</td>\n",
       "      <td>...</td>\n",
       "      <td>...</td>\n",
       "      <td>...</td>\n",
       "    </tr>\n",
       "    <tr>\n",
       "      <th>319790</th>\n",
       "      <td>1</td>\n",
       "      <td>1180</td>\n",
       "      <td>1</td>\n",
       "      <td>0</td>\n",
       "      <td>0</td>\n",
       "      <td>7</td>\n",
       "      <td>0</td>\n",
       "      <td>1</td>\n",
       "      <td>1</td>\n",
       "      <td>8</td>\n",
       "      <td>3</td>\n",
       "      <td>2</td>\n",
       "      <td>0</td>\n",
       "      <td>1</td>\n",
       "      <td>5</td>\n",
       "      <td>1</td>\n",
       "      <td>0</td>\n",
       "      <td>0</td>\n",
       "    </tr>\n",
       "    <tr>\n",
       "      <th>319791</th>\n",
       "      <td>0</td>\n",
       "      <td>1397</td>\n",
       "      <td>1</td>\n",
       "      <td>0</td>\n",
       "      <td>0</td>\n",
       "      <td>0</td>\n",
       "      <td>0</td>\n",
       "      <td>0</td>\n",
       "      <td>1</td>\n",
       "      <td>3</td>\n",
       "      <td>3</td>\n",
       "      <td>0</td>\n",
       "      <td>1</td>\n",
       "      <td>4</td>\n",
       "      <td>4</td>\n",
       "      <td>1</td>\n",
       "      <td>0</td>\n",
       "      <td>0</td>\n",
       "    </tr>\n",
       "    <tr>\n",
       "      <th>319792</th>\n",
       "      <td>0</td>\n",
       "      <td>886</td>\n",
       "      <td>0</td>\n",
       "      <td>0</td>\n",
       "      <td>0</td>\n",
       "      <td>0</td>\n",
       "      <td>0</td>\n",
       "      <td>0</td>\n",
       "      <td>0</td>\n",
       "      <td>5</td>\n",
       "      <td>3</td>\n",
       "      <td>0</td>\n",
       "      <td>1</td>\n",
       "      <td>2</td>\n",
       "      <td>5</td>\n",
       "      <td>0</td>\n",
       "      <td>0</td>\n",
       "      <td>0</td>\n",
       "    </tr>\n",
       "    <tr>\n",
       "      <th>319793</th>\n",
       "      <td>0</td>\n",
       "      <td>1658</td>\n",
       "      <td>0</td>\n",
       "      <td>0</td>\n",
       "      <td>0</td>\n",
       "      <td>0</td>\n",
       "      <td>0</td>\n",
       "      <td>0</td>\n",
       "      <td>0</td>\n",
       "      <td>1</td>\n",
       "      <td>3</td>\n",
       "      <td>0</td>\n",
       "      <td>0</td>\n",
       "      <td>2</td>\n",
       "      <td>11</td>\n",
       "      <td>0</td>\n",
       "      <td>0</td>\n",
       "      <td>0</td>\n",
       "    </tr>\n",
       "    <tr>\n",
       "      <th>319794</th>\n",
       "      <td>0</td>\n",
       "      <td>2700</td>\n",
       "      <td>0</td>\n",
       "      <td>0</td>\n",
       "      <td>0</td>\n",
       "      <td>0</td>\n",
       "      <td>0</td>\n",
       "      <td>0</td>\n",
       "      <td>0</td>\n",
       "      <td>12</td>\n",
       "      <td>3</td>\n",
       "      <td>0</td>\n",
       "      <td>1</td>\n",
       "      <td>2</td>\n",
       "      <td>7</td>\n",
       "      <td>0</td>\n",
       "      <td>0</td>\n",
       "      <td>0</td>\n",
       "    </tr>\n",
       "  </tbody>\n",
       "</table>\n",
       "<p>319795 rows × 18 columns</p>\n",
       "</div>"
      ],
      "text/plain": [
       "        HeartDisease   BMI  Smoking  AlcoholDrinking  Stroke  PhysicalHealth  \\\n",
       "0                  0   223        1                0       0               3   \n",
       "1                  0   524        0                0       1               0   \n",
       "2                  0  1103        1                0       0              20   \n",
       "3                  0   883        0                0       0               0   \n",
       "4                  0   837        0                0       0              28   \n",
       "...              ...   ...      ...              ...     ...             ...   \n",
       "319790             1  1180        1                0       0               7   \n",
       "319791             0  1397        1                0       0               0   \n",
       "319792             0   886        0                0       0               0   \n",
       "319793             0  1658        0                0       0               0   \n",
       "319794             0  2700        0                0       0               0   \n",
       "\n",
       "        MentalHealth  DiffWalking  Sex  AgeCategory  Race  Diabetic  \\\n",
       "0                 30            0    0            7     5         2   \n",
       "1                  0            0    0           12     5         0   \n",
       "2                 30            0    1            9     5         2   \n",
       "3                  0            0    0           11     5         0   \n",
       "4                  0            1    0            4     5         0   \n",
       "...              ...          ...  ...          ...   ...       ...   \n",
       "319790             0            1    1            8     3         2   \n",
       "319791             0            0    1            3     3         0   \n",
       "319792             0            0    0            5     3         0   \n",
       "319793             0            0    0            1     3         0   \n",
       "319794             0            0    0           12     3         0   \n",
       "\n",
       "        PhysicalActivity  GenHealth  SleepTime  Asthma  KidneyDisease  \\\n",
       "0                      1          4          4       1              0   \n",
       "1                      1          4          6       0              0   \n",
       "2                      1          1          7       1              0   \n",
       "3                      0          2          5       0              0   \n",
       "4                      1          4          7       0              0   \n",
       "...                  ...        ...        ...     ...            ...   \n",
       "319790                 0          1          5       1              0   \n",
       "319791                 1          4          4       1              0   \n",
       "319792                 1          2          5       0              0   \n",
       "319793                 0          2         11       0              0   \n",
       "319794                 1          2          7       0              0   \n",
       "\n",
       "        SkinCancer  \n",
       "0                1  \n",
       "1                0  \n",
       "2                0  \n",
       "3                1  \n",
       "4                0  \n",
       "...            ...  \n",
       "319790           0  \n",
       "319791           0  \n",
       "319792           0  \n",
       "319793           0  \n",
       "319794           0  \n",
       "\n",
       "[319795 rows x 18 columns]"
      ]
     },
     "execution_count": 13,
     "metadata": {},
     "output_type": "execute_result"
    }
   ],
   "source": [
    "df"
   ]
  },
  {
   "cell_type": "markdown",
   "id": "ad2b5fe7",
   "metadata": {},
   "source": [
    "## Import Important Library"
   ]
  },
  {
   "cell_type": "code",
   "execution_count": 14,
   "id": "b95a2919",
   "metadata": {},
   "outputs": [],
   "source": [
    "import pandas as pd\n",
    "import numpy as np\n",
    "import matplotlib.pyplot as plt\n",
    "import seaborn as sns\n",
    "from sklearn.model_selection import train_test_split\n",
    "from sklearn.svm import SVC\n",
    "from sklearn.metrics import classification_report,confusion_matrix,accuracy_score"
   ]
  },
  {
   "cell_type": "code",
   "execution_count": 15,
   "id": "c484c5af",
   "metadata": {},
   "outputs": [],
   "source": [
    "feature_lst=['HeartDisease',\n",
    "             'BMI',\n",
    "             'Smoking',\n",
    "             'AlcoholDrinking',\n",
    "             'Stroke',\n",
    "             'PhysicalHealth',\n",
    "             'MentalHealth',\n",
    "             'DiffWalking',\n",
    "             'Sex',\n",
    "             'AgeCategory',\n",
    "             'Race',\n",
    "             'Diabetic',\n",
    "             'PhysicalActivity',\n",
    "             'GenHealth',\n",
    "             'SleepTime',\n",
    "             'Asthma',\n",
    "             'KidneyDisease',\n",
    "             'SkinCancer']"
   ]
  },
  {
   "cell_type": "code",
   "execution_count": 16,
   "id": "a6a474d7",
   "metadata": {},
   "outputs": [
    {
     "name": "stdout",
     "output_type": "stream",
     "text": [
      "<class 'pandas.core.frame.DataFrame'>\n",
      "RangeIndex: 319795 entries, 0 to 319794\n",
      "Data columns (total 18 columns):\n",
      " #   Column            Non-Null Count   Dtype\n",
      "---  ------            --------------   -----\n",
      " 0   HeartDisease      319795 non-null  int32\n",
      " 1   BMI               319795 non-null  int64\n",
      " 2   Smoking           319795 non-null  int32\n",
      " 3   AlcoholDrinking   319795 non-null  int32\n",
      " 4   Stroke            319795 non-null  int32\n",
      " 5   PhysicalHealth    319795 non-null  int64\n",
      " 6   MentalHealth      319795 non-null  int64\n",
      " 7   DiffWalking       319795 non-null  int32\n",
      " 8   Sex               319795 non-null  int32\n",
      " 9   AgeCategory       319795 non-null  int32\n",
      " 10  Race              319795 non-null  int32\n",
      " 11  Diabetic          319795 non-null  int32\n",
      " 12  PhysicalActivity  319795 non-null  int32\n",
      " 13  GenHealth         319795 non-null  int32\n",
      " 14  SleepTime         319795 non-null  int64\n",
      " 15  Asthma            319795 non-null  int32\n",
      " 16  KidneyDisease     319795 non-null  int32\n",
      " 17  SkinCancer        319795 non-null  int32\n",
      "dtypes: int32(14), int64(4)\n",
      "memory usage: 26.8 MB\n"
     ]
    }
   ],
   "source": [
    "df_sel=df[feature_lst].copy()\n",
    "df_sel.info()"
   ]
  },
  {
   "cell_type": "markdown",
   "id": "499c5cf7",
   "metadata": {},
   "source": [
    "### Segmented the feature into X and Y"
   ]
  },
  {
   "cell_type": "code",
   "execution_count": 17,
   "id": "2a682c14",
   "metadata": {},
   "outputs": [],
   "source": [
    "\n",
    "\n",
    "# Set the target for the prediction\n",
    "target='HeartDisease'\n",
    "\n",
    "# set X and y\n",
    "y = df_sel[target]\n",
    "X = df_sel.drop(target, axis=1)"
   ]
  },
  {
   "cell_type": "code",
   "execution_count": 18,
   "id": "62211dd3",
   "metadata": {},
   "outputs": [],
   "source": [
    "# Split the data set into training and testing data sets\n",
    "X_train, X_test, y_train, y_test = train_test_split(X, y, test_size=0.2, random_state=21, stratify=y)"
   ]
  },
  {
   "cell_type": "code",
   "execution_count": 19,
   "id": "67be6a5b",
   "metadata": {},
   "outputs": [],
   "source": [
    "# Import LogisticRegression\n",
    "from sklearn.linear_model import LogisticRegression"
   ]
  },
  {
   "cell_type": "code",
   "execution_count": 20,
   "id": "74569cd9",
   "metadata": {},
   "outputs": [
    {
     "name": "stdout",
     "output_type": "stream",
     "text": [
      "Accuracy of logistic regression classifier on test set: 91.09\n"
     ]
    },
    {
     "name": "stderr",
     "output_type": "stream",
     "text": [
      "C:\\Users\\Tanvir\\anaconda3\\lib\\site-packages\\sklearn\\linear_model\\_logistic.py:814: ConvergenceWarning: lbfgs failed to converge (status=1):\n",
      "STOP: TOTAL NO. of ITERATIONS REACHED LIMIT.\n",
      "\n",
      "Increase the number of iterations (max_iter) or scale the data as shown in:\n",
      "    https://scikit-learn.org/stable/modules/preprocessing.html\n",
      "Please also refer to the documentation for alternative solver options:\n",
      "    https://scikit-learn.org/stable/modules/linear_model.html#logistic-regression\n",
      "  n_iter_i = _check_optimize_result(\n"
     ]
    }
   ],
   "source": [
    "# Logistic regression\n",
    "lr = LogisticRegression()\n",
    "lr.fit(X_train,y_train)\n",
    "y_pred=lr.predict(X_test)\n",
    "\n",
    "# Get the accuracy score\n",
    "acc=accuracy_score(y_test, y_pred)\n",
    "\n",
    "print('Accuracy of logistic regression classifier on test set: {:.2f}'.format(lr.score(X_test, y_test)*100,'%'))"
   ]
  },
  {
   "cell_type": "code",
   "execution_count": 21,
   "id": "f4ef2f06",
   "metadata": {},
   "outputs": [
    {
     "name": "stdout",
     "output_type": "stream",
     "text": [
      "              precision    recall  f1-score   support\n",
      "\n",
      "           0       0.92      0.99      0.95     58484\n",
      "           1       0.36      0.05      0.09      5475\n",
      "\n",
      "    accuracy                           0.91     63959\n",
      "   macro avg       0.64      0.52      0.52     63959\n",
      "weighted avg       0.87      0.91      0.88     63959\n",
      "\n"
     ]
    }
   ],
   "source": [
    "print(classification_report(y_test,y_pred))"
   ]
  },
  {
   "cell_type": "code",
   "execution_count": 22,
   "id": "31951573",
   "metadata": {},
   "outputs": [],
   "source": [
    "# Import DecisionTreeClassifier from sklearn.tree\n",
    "from sklearn.tree import DecisionTreeClassifier"
   ]
  },
  {
   "cell_type": "code",
   "execution_count": 23,
   "id": "f24affee",
   "metadata": {},
   "outputs": [
    {
     "name": "stdout",
     "output_type": "stream",
     "text": [
      "[Decision Tree -- entropy] accuracy_score: 0.915.\n",
      "[Decision Tree -- gini] accuracy_score: 0.914.\n"
     ]
    }
   ],
   "source": [
    "#Decision tree algorithm\n",
    "\n",
    "# Instantiate dt_entropy, set 'entropy' as the information criterion\n",
    "dt_entropy = DecisionTreeClassifier(max_depth=8, criterion='entropy', random_state=1)\n",
    "\n",
    "\n",
    "# Fit dt_entropy to the training set\n",
    "dt_entropy.fit(X_train, y_train)\n",
    "\n",
    "# Use dt_entropy to predict test set labels\n",
    "y_pred= dt_entropy.predict(X_test)\n",
    "\n",
    "# Evaluate accuracy_entropy\n",
    "accuracy_entropy = accuracy_score(y_test, y_pred)\n",
    "\n",
    "\n",
    "# Print accuracy_entropy\n",
    "print('[Decision Tree -- entropy] accuracy_score: {:.3f}.'.format(accuracy_entropy))\n",
    "\n",
    "\n",
    "\n",
    "# Instantiate dt_gini, set 'gini' as the information criterion\n",
    "dt_gini = DecisionTreeClassifier(max_depth=8, criterion='gini', random_state=1)\n",
    "\n",
    "\n",
    "# Fit dt_entropy to the training set\n",
    "dt_gini.fit(X_train, y_train)\n",
    "\n",
    "# Use dt_entropy to predict test set labels\n",
    "y_pred= dt_gini.predict(X_test)\n",
    "\n",
    "# Evaluate accuracy_entropy\n",
    "accuracy_gini = accuracy_score(y_test, y_pred)\n",
    "\n",
    "# Append to the accuracy list\n",
    "acc=accuracy_gini\n",
    "\n",
    "\n",
    "# Print accuracy_gini\n",
    "print('[Decision Tree -- gini] accuracy_score: {:.3f}.'.format(accuracy_gini))"
   ]
  },
  {
   "cell_type": "code",
   "execution_count": 24,
   "id": "6ff86659",
   "metadata": {},
   "outputs": [
    {
     "name": "stdout",
     "output_type": "stream",
     "text": [
      "              precision    recall  f1-score   support\n",
      "\n",
      "           0       0.92      0.99      0.96     58484\n",
      "           1       0.50      0.06      0.10      5475\n",
      "\n",
      "    accuracy                           0.91     63959\n",
      "   macro avg       0.71      0.53      0.53     63959\n",
      "weighted avg       0.88      0.91      0.88     63959\n",
      "\n"
     ]
    }
   ],
   "source": [
    "print(classification_report(y_test,y_pred))"
   ]
  },
  {
   "cell_type": "code",
   "execution_count": 25,
   "id": "e954f071",
   "metadata": {},
   "outputs": [],
   "source": [
    "# Import RandomForestClassifier\n",
    "from sklearn.ensemble import RandomForestClassifier"
   ]
  },
  {
   "cell_type": "code",
   "execution_count": 26,
   "id": "192b58bf",
   "metadata": {},
   "outputs": [
    {
     "name": "stdout",
     "output_type": "stream",
     "text": [
      "[Randon forest algorithm] accuracy_score: 0.906.\n"
     ]
    }
   ],
   "source": [
    "# Random Forest algorithm\n",
    "\n",
    "#Create a Gaussian Classifier\n",
    "clf=RandomForestClassifier(n_estimators=100)\n",
    "\n",
    "#Train the model using the training sets y_pred=clf.predict(X_test)\n",
    "clf.fit(X_train,y_train)\n",
    "\n",
    "y_pred=clf.predict(X_test)\n",
    "\n",
    "\n",
    "# Get the accuracy score\n",
    "acc=accuracy_score(y_test, y_pred)\n",
    "\n",
    "# Append to the accuracy list\n",
    "# accuracy_lst.append(acc)\n",
    "\n",
    "\n",
    "# Model Accuracy, how often is the classifier correct?\n",
    "print(\"[Randon forest algorithm] accuracy_score: {:.3f}.\".format(acc))"
   ]
  },
  {
   "cell_type": "code",
   "execution_count": 27,
   "id": "ec259f6a",
   "metadata": {},
   "outputs": [
    {
     "name": "stdout",
     "output_type": "stream",
     "text": [
      "              precision    recall  f1-score   support\n",
      "\n",
      "           0       0.92      0.98      0.95     58484\n",
      "           1       0.35      0.11      0.17      5475\n",
      "\n",
      "    accuracy                           0.91     63959\n",
      "   macro avg       0.63      0.55      0.56     63959\n",
      "weighted avg       0.87      0.91      0.88     63959\n",
      "\n"
     ]
    }
   ],
   "source": [
    "print(classification_report(y_test,y_pred))"
   ]
  },
  {
   "cell_type": "code",
   "execution_count": 28,
   "id": "83a2a888",
   "metadata": {},
   "outputs": [],
   "source": [
    "test_confusion_matrix = confusion_matrix(y_test,y_pred)"
   ]
  },
  {
   "cell_type": "code",
   "execution_count": 29,
   "id": "8cf26766",
   "metadata": {},
   "outputs": [
    {
     "data": {
      "text/plain": [
       "array([[57303,  1181],\n",
       "       [ 4852,   623]], dtype=int64)"
      ]
     },
     "execution_count": 29,
     "metadata": {},
     "output_type": "execute_result"
    }
   ],
   "source": [
    "test_confusion_matrix"
   ]
  },
  {
   "cell_type": "code",
   "execution_count": 30,
   "id": "421bd8b9",
   "metadata": {},
   "outputs": [
    {
     "data": {
      "text/plain": [
       "<AxesSubplot:>"
      ]
     },
     "execution_count": 30,
     "metadata": {},
     "output_type": "execute_result"
    },
    {
     "data": {
      "image/png": "[encoded data removed]",
      "text/plain": [
       "<Figure size 432x288 with 2 Axes>"
      ]
     },
     "metadata": {
      "needs_background": "light"
     },
     "output_type": "display_data"
    }
   ],
   "source": [
    "sns.heatmap(test_confusion_matrix, annot=True)"
   ]
  },
  {
   "cell_type": "markdown",
   "id": "22200982",
   "metadata": {},
   "source": [
    "# Now I am applying over sampling technique to improve the Recall and Precision score to balanced the dataset "
   ]
  },
  {
   "cell_type": "code",
   "execution_count": 47,
   "id": "0e373305",
   "metadata": {},
   "outputs": [],
   "source": [
    "from imblearn.over_sampling import RandomOverSampler"
   ]
  },
  {
   "cell_type": "code",
   "execution_count": 33,
   "id": "02fdfeb9",
   "metadata": {},
   "outputs": [],
   "source": [
    "#OverSampling\n",
    "ros = RandomOverSampler(random_state=0)\n",
    "ros.fit(X, y)\n",
    "X_resampled, y_resampled = ros.fit_resample(X, y)"
   ]
  },
  {
   "cell_type": "code",
   "execution_count": 34,
   "id": "40df4aff",
   "metadata": {},
   "outputs": [
    {
     "name": "stdout",
     "output_type": "stream",
     "text": [
      "Class 0: 292422\n",
      "Class 1: 292422\n",
      "Proportion: 1.0 : 1\n"
     ]
    },
    {
     "name": "stderr",
     "output_type": "stream",
     "text": [
      "C:\\Users\\Tanvir\\anaconda3\\lib\\site-packages\\seaborn\\_decorators.py:36: FutureWarning: Pass the following variable as a keyword arg: x. From version 0.12, the only valid positional argument will be `data`, and passing other arguments without an explicit keyword will result in an error or misinterpretation.\n",
      "  warnings.warn(\n"
     ]
    },
    {
     "data": {
      "image/png": "[encoded data removed]",
      "text/plain": [
       "<Figure size 432x288 with 1 Axes>"
      ]
     },
     "metadata": {
      "needs_background": "light"
     },
     "output_type": "display_data"
    }
   ],
   "source": [
    "#checking for class distribution after oversampling\n",
    "target_class_resampled=np.unique(y_resampled , return_counts=True)\n",
    "print('Class 0:', target_class_resampled[1][0])\n",
    "print('Class 1:', target_class_resampled[1][1])\n",
    "print('Proportion:', round(target_class_resampled[1][0] / target_class_resampled[1][1], 2), ': 1')\n",
    "\n",
    "sns.countplot(y_resampled, palette='winter');"
   ]
  },
  {
   "cell_type": "code",
   "execution_count": 35,
   "id": "4f823ab3",
   "metadata": {},
   "outputs": [],
   "source": [
    "#Splitting the dataset\n",
    "X_train_re, X_test_re,y_train_re,y_test_re=train_test_split(X_resampled,y_resampled, test_size=0.25, random_state=0)"
   ]
  },
  {
   "cell_type": "markdown",
   "id": "86a8fff9",
   "metadata": {},
   "source": [
    "## After Over Sampling Applying Random Forest Classifier Algorithm"
   ]
  },
  {
   "cell_type": "code",
   "execution_count": 39,
   "id": "1779a178",
   "metadata": {},
   "outputs": [],
   "source": [
    "#Using random forest on this resampled dataset\n",
    "clf1=RandomForestClassifier()\n",
    "clf1.fit(X_train_re,y_train_re)\n",
    "y_predict_re=clf1.predict(X_test_re)"
   ]
  },
  {
   "cell_type": "code",
   "execution_count": 40,
   "id": "ab0cad5c",
   "metadata": {},
   "outputs": [
    {
     "name": "stdout",
     "output_type": "stream",
     "text": [
      "[[68266  4749]\n",
      " [   53 73143]]\n"
     ]
    },
    {
     "data": {
      "text/plain": [
       "<AxesSubplot:>"
      ]
     },
     "execution_count": 40,
     "metadata": {},
     "output_type": "execute_result"
    },
    {
     "data": {
      "image/png": "[encoded data removed]",
      "text/plain": [
       "<Figure size 432x288 with 2 Axes>"
      ]
     },
     "metadata": {
      "needs_background": "light"
     },
     "output_type": "display_data"
    }
   ],
   "source": [
    "#confusion metrics\n",
    "cm=confusion_matrix(y_test_re,y_predict_re)\n",
    "print(cm)\n",
    "sns.heatmap(cm, annot=True)"
   ]
  },
  {
   "cell_type": "code",
   "execution_count": 41,
   "id": "bdf538ff",
   "metadata": {},
   "outputs": [
    {
     "name": "stdout",
     "output_type": "stream",
     "text": [
      "0.9671570538468378\n",
      "              precision    recall  f1-score   support\n",
      "\n",
      "           0       1.00      0.93      0.97     73015\n",
      "           1       0.94      1.00      0.97     73196\n",
      "\n",
      "    accuracy                           0.97    146211\n",
      "   macro avg       0.97      0.97      0.97    146211\n",
      "weighted avg       0.97      0.97      0.97    146211\n",
      "\n"
     ]
    }
   ],
   "source": [
    "#Accuracy score and classification report\n",
    "print(accuracy_score(y_test_re,y_predict_re))\n",
    "print(classification_report(y_test_re,y_predict_re))"
   ]
  },
  {
   "cell_type": "markdown",
   "id": "49ddc731",
   "metadata": {},
   "source": [
    "## After Over Sampling Applying Decision Tree Algorithm"
   ]
  },
  {
   "cell_type": "code",
   "execution_count": 43,
   "id": "31971a99",
   "metadata": {},
   "outputs": [],
   "source": [
    "#Using random forest on this resampled dataset\n",
    "clf2=DecisionTreeClassifier()\n",
    "clf2.fit(X_train_re,y_train_re)\n",
    "y_predict_re=clf2.predict(X_test_re)"
   ]
  },
  {
   "cell_type": "code",
   "execution_count": 44,
   "id": "75c04272",
   "metadata": {},
   "outputs": [
    {
     "name": "stdout",
     "output_type": "stream",
     "text": [
      "[[65933  7082]\n",
      " [   67 73129]]\n"
     ]
    },
    {
     "data": {
      "text/plain": [
       "<AxesSubplot:>"
      ]
     },
     "execution_count": 44,
     "metadata": {},
     "output_type": "execute_result"
    },
    {
     "data": {
      "image/png": "[encoded data removed]",
      "text/plain": [
       "<Figure size 432x288 with 2 Axes>"
      ]
     },
     "metadata": {
      "needs_background": "light"
     },
     "output_type": "display_data"
    }
   ],
   "source": [
    "#confusion metrics\n",
    "cm=confusion_matrix(y_test_re,y_predict_re)\n",
    "print(cm)\n",
    "sns.heatmap(cm, annot=True)"
   ]
  },
  {
   "cell_type": "code",
   "execution_count": 45,
   "id": "70f13899",
   "metadata": {},
   "outputs": [
    {
     "name": "stdout",
     "output_type": "stream",
     "text": [
      "0.9511049100272894\n",
      "              precision    recall  f1-score   support\n",
      "\n",
      "           0       1.00      0.90      0.95     73015\n",
      "           1       0.91      1.00      0.95     73196\n",
      "\n",
      "    accuracy                           0.95    146211\n",
      "   macro avg       0.96      0.95      0.95    146211\n",
      "weighted avg       0.96      0.95      0.95    146211\n",
      "\n"
     ]
    }
   ],
   "source": [
    "#Accuracy score and classification report\n",
    "print(accuracy_score(y_test_re,y_predict_re))\n",
    "print(classification_report(y_test_re,y_predict_re))"
   ]
  },
  {
   "cell_type": "markdown",
   "id": "3690b0a4",
   "metadata": {},
   "source": [
    "# Now I am applying Random under sampling technique to improve the Recall and Precision score to balanced the dataset "
   ]
  },
  {
   "cell_type": "code",
   "execution_count": 48,
   "id": "8d948240",
   "metadata": {},
   "outputs": [],
   "source": [
    "from imblearn.under_sampling import RandomUnderSampler"
   ]
  },
  {
   "cell_type": "code",
   "execution_count": 50,
   "id": "305d919c",
   "metadata": {},
   "outputs": [],
   "source": [
    "#UnderSampling\n",
    "ros = RandomUnderSampler(random_state=0)\n",
    "ros.fit(X, y)\n",
    "X_resampled2, y_resampled2 = ros.fit_resample(X, y)"
   ]
  },
  {
   "cell_type": "code",
   "execution_count": 53,
   "id": "f726f0ae",
   "metadata": {},
   "outputs": [
    {
     "name": "stdout",
     "output_type": "stream",
     "text": [
      "Class 0: 27373\n",
      "Class 1: 27373\n",
      "Proportion: 1.0 : 1\n"
     ]
    },
    {
     "name": "stderr",
     "output_type": "stream",
     "text": [
      "C:\\Users\\Tanvir\\anaconda3\\lib\\site-packages\\seaborn\\_decorators.py:36: FutureWarning: Pass the following variable as a keyword arg: x. From version 0.12, the only valid positional argument will be `data`, and passing other arguments without an explicit keyword will result in an error or misinterpretation.\n",
      "  warnings.warn(\n"
     ]
    },
    {
     "data": {
      "image/png": "[encoded data removed]",
      "text/plain": [
       "<Figure size 432x288 with 1 Axes>"
      ]
     },
     "metadata": {
      "needs_background": "light"
     },
     "output_type": "display_data"
    }
   ],
   "source": [
    "#checking for class distribution after oversampling\n",
    "target_class_resampled=np.unique(y_resampled2 , return_counts=True)\n",
    "print('Class 0:', target_class_resampled[1][0])\n",
    "print('Class 1:', target_class_resampled[1][1])\n",
    "print('Proportion:', round(target_class_resampled[1][0] / target_class_resampled[1][1], 2), ': 1')\n",
    "\n",
    "sns.countplot(y_resampled2, palette='winter');"
   ]
  },
  {
   "cell_type": "code",
   "execution_count": 54,
   "id": "248550bd",
   "metadata": {},
   "outputs": [],
   "source": [
    "#Splitting the dataset\n",
    "X_train_re2, X_test_re2,y_train_re2,y_test_re2=train_test_split(X_resampled2,y_resampled2, test_size=0.25, random_state=0)"
   ]
  },
  {
   "cell_type": "markdown",
   "id": "fc7414c2",
   "metadata": {},
   "source": [
    "## After Under Sampling Applying Random Forest Classifier Algorithm"
   ]
  },
  {
   "cell_type": "code",
   "execution_count": 60,
   "id": "424ba9f7",
   "metadata": {},
   "outputs": [],
   "source": [
    "#Using random forest on this resampled dataset\n",
    "clf=RandomForestClassifier()\n",
    "clf.fit(X_train_re2,y_train_re2)\n",
    "y_predict_re2=clf.predict(X_test_re2)"
   ]
  },
  {
   "cell_type": "code",
   "execution_count": 58,
   "id": "70d8b5fc",
   "metadata": {},
   "outputs": [
    {
     "name": "stdout",
     "output_type": "stream",
     "text": [
      "[[4853 1986]\n",
      " [1458 5390]]\n"
     ]
    },
    {
     "data": {
      "text/plain": [
       "<AxesSubplot:>"
      ]
     },
     "execution_count": 58,
     "metadata": {},
     "output_type": "execute_result"
    },
    {
     "data": {
      "image/png": "[encoded data removed]",
      "text/plain": [
       "<Figure size 432x288 with 2 Axes>"
      ]
     },
     "metadata": {
      "needs_background": "light"
     },
     "output_type": "display_data"
    }
   ],
   "source": [
    "#confusion metrics\n",
    "cm=confusion_matrix(y_test_re2,y_predict_re2)\n",
    "print(cm)\n",
    "sns.heatmap(cm, annot=True)"
   ]
  },
  {
   "cell_type": "code",
   "execution_count": 59,
   "id": "4373b7d8",
   "metadata": {},
   "outputs": [
    {
     "name": "stdout",
     "output_type": "stream",
     "text": [
      "0.7483743698399942\n",
      "              precision    recall  f1-score   support\n",
      "\n",
      "           0       0.77      0.71      0.74      6839\n",
      "           1       0.73      0.79      0.76      6848\n",
      "\n",
      "    accuracy                           0.75     13687\n",
      "   macro avg       0.75      0.75      0.75     13687\n",
      "weighted avg       0.75      0.75      0.75     13687\n",
      "\n"
     ]
    }
   ],
   "source": [
    "#Accuracy score and classification report\n",
    "print(accuracy_score(y_test_re2,y_predict_re2))\n",
    "print(classification_report(y_test_re2,y_predict_re2))"
   ]
  },
  {
   "cell_type": "markdown",
   "id": "9fb9bb88",
   "metadata": {},
   "source": [
    "## After Under Sampling Applying Decision Tree Classifier Algorithm"
   ]
  },
  {
   "cell_type": "code",
   "execution_count": 61,
   "id": "cc6c5ec6",
   "metadata": {},
   "outputs": [],
   "source": [
    "#Using random forest on this resampled dataset\n",
    "clf=DecisionTreeClassifier()\n",
    "clf.fit(X_train_re2,y_train_re2)\n",
    "y_predict_re2=clf.predict(X_test_re2)"
   ]
  },
  {
   "cell_type": "code",
   "execution_count": 62,
   "id": "3e9181ad",
   "metadata": {},
   "outputs": [
    {
     "name": "stdout",
     "output_type": "stream",
     "text": [
      "[[4574 2265]\n",
      " [2242 4606]]\n"
     ]
    },
    {
     "data": {
      "text/plain": [
       "<AxesSubplot:>"
      ]
     },
     "execution_count": 62,
     "metadata": {},
     "output_type": "execute_result"
    },
    {
     "data": {
      "image/png": "[encoded data removed]",
      "text/plain": [
       "<Figure size 432x288 with 2 Axes>"
      ]
     },
     "metadata": {
      "needs_background": "light"
     },
     "output_type": "display_data"
    }
   ],
   "source": [
    "#confusion metrics\n",
    "cm=confusion_matrix(y_test_re2,y_predict_re2)\n",
    "print(cm)\n",
    "sns.heatmap(cm, annot=True)"
   ]
  },
  {
   "cell_type": "code",
   "execution_count": 63,
   "id": "c3b093ad",
   "metadata": {},
   "outputs": [
    {
     "name": "stdout",
     "output_type": "stream",
     "text": [
      "0.6707094323080295\n",
      "              precision    recall  f1-score   support\n",
      "\n",
      "           0       0.67      0.67      0.67      6839\n",
      "           1       0.67      0.67      0.67      6848\n",
      "\n",
      "    accuracy                           0.67     13687\n",
      "   macro avg       0.67      0.67      0.67     13687\n",
      "weighted avg       0.67      0.67      0.67     13687\n",
      "\n"
     ]
    }
   ],
   "source": [
    "#Accuracy score and classification report\n",
    "print(accuracy_score(y_test_re2,y_predict_re2))\n",
    "print(classification_report(y_test_re2,y_predict_re2))"
   ]
  },
  {
   "cell_type": "markdown",
   "id": "ff2c22ef",
   "metadata": {},
   "source": [
    "### We can see that, in over sampling technique it improves the recall precision & finally accuracy score, but in under sampling technique its just improve the precision & recall score, over all accuracy score is degraded.  "
   ]
  },
  {
   "cell_type": "markdown",
   "id": "8d4dcead",
   "metadata": {},
   "source": [
    "# Now I am applying  Synthetic Sampling technique to improve the Recall and Precision score to balanced the dataset "
   ]
  },
  {
   "cell_type": "code",
   "execution_count": 85,
   "id": "eb825316",
   "metadata": {},
   "outputs": [],
   "source": [
    "from imblearn.over_sampling import SMOTE\n",
    "\n",
    "# defining the Model\n",
    "sm = SMOTE(random_state=0)\n",
    "\n",
    "# Training the Model\n",
    "sm.fit(X, y)\n",
    "\n",
    "# Making the Samples\n",
    "X_resampled3, y_resampled3 = sm.fit_resample(X, y)"
   ]
  },
  {
   "cell_type": "code",
   "execution_count": 86,
   "id": "a70fb6de",
   "metadata": {},
   "outputs": [
    {
     "name": "stdout",
     "output_type": "stream",
     "text": [
      "Class 0: 292422\n",
      "Class 1: 292422\n",
      "Proportion: 1.0 : 1\n"
     ]
    },
    {
     "name": "stderr",
     "output_type": "stream",
     "text": [
      "C:\\Users\\Tanvir\\anaconda3\\lib\\site-packages\\seaborn\\_decorators.py:36: FutureWarning: Pass the following variable as a keyword arg: x. From version 0.12, the only valid positional argument will be `data`, and passing other arguments without an explicit keyword will result in an error or misinterpretation.\n",
      "  warnings.warn(\n"
     ]
    },
    {
     "data": {
      "image/png": "[encoded data removed]",
      "text/plain": [
       "<Figure size 432x288 with 1 Axes>"
      ]
     },
     "metadata": {
      "needs_background": "light"
     },
     "output_type": "display_data"
    }
   ],
   "source": [
    "#checking for class distribution after oversampling\n",
    "target_class_resampled=np.unique(y_resampled3 , return_counts=True)\n",
    "print('Class 0:', target_class_resampled[1][0])\n",
    "print('Class 1:', target_class_resampled[1][1])\n",
    "print('Proportion:', round(target_class_resampled[1][0] / target_class_resampled[1][1], 2), ': 1')\n",
    "\n",
    "sns.countplot(y_resampled3, palette='winter');"
   ]
  },
  {
   "cell_type": "code",
   "execution_count": 95,
   "id": "ba264b97",
   "metadata": {},
   "outputs": [
    {
     "name": "stdout",
     "output_type": "stream",
     "text": [
      "The Shape of X train : (467875, 17)\n",
      "The Shape of X test : (116969, 17)\n",
      "The Shape of Y train : (467875,)\n",
      "The Shape of Y test : (116969,)\n"
     ]
    }
   ],
   "source": [
    "# Splitting the dataset\n",
    "X_train_sm, X_test_sm, y_train_sm, y_test_sm =train_test_split(X_resampled3,\n",
    "                                                               y_resampled3,\n",
    "                                                               test_size=0.2,\n",
    "                                                               random_state=0)\n",
    "\n",
    "# lets print the shapes\n",
    "print(\"The Shape of X train :\", X_train_sm.shape)\n",
    "print(\"The Shape of X test :\", X_test_sm.shape)\n",
    "print(\"The Shape of Y train :\", y_train_sm.shape)\n",
    "print(\"The Shape of Y test :\", y_test_sm.shape)"
   ]
  },
  {
   "cell_type": "markdown",
   "id": "47079efe",
   "metadata": {},
   "source": [
    "## After Synthetic Sampling Applying Random Forest Classifier Algorithm"
   ]
  },
  {
   "cell_type": "code",
   "execution_count": 96,
   "id": "e43309b1",
   "metadata": {},
   "outputs": [],
   "source": [
    "# Lets Build a Predictive Model using the Random Forest Classifier\n",
    "\n",
    "from sklearn.ensemble import RandomForestClassifier\n",
    "\n",
    "# define a Model\n",
    "Model = RandomForestClassifier()\n",
    "\n",
    "# Train the Model\n",
    "Model.fit(X_train_sm, y_train_sm)\n",
    "\n",
    "# Predictions for the X test\n",
    "y_pred_sm = Model.predict(X_test_sm)"
   ]
  },
  {
   "cell_type": "code",
   "execution_count": 97,
   "id": "4f599e30",
   "metadata": {},
   "outputs": [
    {
     "name": "stdout",
     "output_type": "stream",
     "text": [
      "[[49301  9160]\n",
      " [ 5336 53172]]\n"
     ]
    },
    {
     "data": {
      "text/plain": [
       "<AxesSubplot:>"
      ]
     },
     "execution_count": 97,
     "metadata": {},
     "output_type": "execute_result"
    },
    {
     "data": {
      "image/png": "[encoded data removed]",
      "text/plain": [
       "<Figure size 432x288 with 2 Axes>"
      ]
     },
     "metadata": {
      "needs_background": "light"
     },
     "output_type": "display_data"
    }
   ],
   "source": [
    "#confusion metrics\n",
    "cm=confusion_matrix(y_test_sm,y_pred_sm)\n",
    "print(cm)\n",
    "sns.heatmap(cm, annot=True)"
   ]
  },
  {
   "cell_type": "code",
   "execution_count": 98,
   "id": "1eac3c73",
   "metadata": {},
   "outputs": [
    {
     "name": "stdout",
     "output_type": "stream",
     "text": [
      "0.8760697278766169\n",
      "              precision    recall  f1-score   support\n",
      "\n",
      "           0       0.90      0.84      0.87     58461\n",
      "           1       0.85      0.91      0.88     58508\n",
      "\n",
      "    accuracy                           0.88    116969\n",
      "   macro avg       0.88      0.88      0.88    116969\n",
      "weighted avg       0.88      0.88      0.88    116969\n",
      "\n"
     ]
    }
   ],
   "source": [
    "print(accuracy_score(y_test_sm, y_pred_sm))\n",
    "print(classification_report(y_test_sm, y_pred_sm))"
   ]
  },
  {
   "cell_type": "markdown",
   "id": "2f8e03c1",
   "metadata": {},
   "source": [
    "## After Synthetic Sampling Applying Decision Tree Classifier Algorithm"
   ]
  },
  {
   "cell_type": "code",
   "execution_count": 99,
   "id": "64e9be30",
   "metadata": {},
   "outputs": [],
   "source": [
    "# define a Model\n",
    "Model = DecisionTreeClassifier()\n",
    "\n",
    "# Train the Model\n",
    "Model.fit(X_train_sm, y_train_sm)\n",
    "\n",
    "# Predictions for the X test\n",
    "y_pred_sm = Model.predict(X_test_sm)"
   ]
  },
  {
   "cell_type": "code",
   "execution_count": 100,
   "id": "c6db01c1",
   "metadata": {},
   "outputs": [
    {
     "name": "stdout",
     "output_type": "stream",
     "text": [
      "[[47757 10704]\n",
      " [ 6483 52025]]\n"
     ]
    },
    {
     "data": {
      "text/plain": [
       "<AxesSubplot:>"
      ]
     },
     "execution_count": 100,
     "metadata": {},
     "output_type": "execute_result"
    },
    {
     "data": {
      "image/png": "[encoded data removed]",
      "text/plain": [
       "<Figure size 432x288 with 2 Axes>"
      ]
     },
     "metadata": {
      "needs_background": "light"
     },
     "output_type": "display_data"
    }
   ],
   "source": [
    "#confusion metrics\n",
    "cm=confusion_matrix(y_test_sm,y_pred_sm)\n",
    "print(cm)\n",
    "sns.heatmap(cm, annot=True)"
   ]
  },
  {
   "cell_type": "code",
   "execution_count": 101,
   "id": "dd365f1e",
   "metadata": {},
   "outputs": [
    {
     "name": "stdout",
     "output_type": "stream",
     "text": [
      "0.8530636322444408\n",
      "              precision    recall  f1-score   support\n",
      "\n",
      "           0       0.88      0.82      0.85     58461\n",
      "           1       0.83      0.89      0.86     58508\n",
      "\n",
      "    accuracy                           0.85    116969\n",
      "   macro avg       0.85      0.85      0.85    116969\n",
      "weighted avg       0.85      0.85      0.85    116969\n",
      "\n"
     ]
    }
   ],
   "source": [
    "print(accuracy_score(y_test_sm, y_pred_sm))\n",
    "print(classification_report(y_test_sm, y_pred_sm))"
   ]
  },
  {
   "cell_type": "markdown",
   "id": "b6a96a48",
   "metadata": {},
   "source": [
    "### So, We can finally say that, for this data set over sampling is the best choice to balance the data set"
   ]
  },
  {
   "cell_type": "markdown",
   "id": "7af8fab1",
   "metadata": {},
   "source": [
    "### To predict the heart diseases Over sampling is the best choice to balanced the data set & Random forest classifier gives the best accuracy, so based on this we can see about important features....."
   ]
  },
  {
   "cell_type": "code",
   "execution_count": 105,
   "id": "2a962901",
   "metadata": {},
   "outputs": [
    {
     "name": "stderr",
     "output_type": "stream",
     "text": [
      "No artists with labels found to put in legend.  Note that artists whose label start with an underscore are ignored when legend() is called with no argument.\n"
     ]
    },
    {
     "data": {
      "image/png": "[encoded data removed]",
      "text/plain": [
       "<Figure size 432x288 with 1 Axes>"
      ]
     },
     "metadata": {
      "needs_background": "light"
     },
     "output_type": "display_data"
    }
   ],
   "source": [
    "feature_imp = pd.Series(clf1.feature_importances_,index=X.columns).sort_values(ascending=False)\n",
    "\n",
    "# Creating a bar plot, displaying only the top k features\n",
    "k=10\n",
    "sns.barplot(x=feature_imp[:10], y=feature_imp.index[:k])\n",
    "# Add labels to your graph\n",
    "plt.xlabel('Feature Importance Score')\n",
    "plt.ylabel('Features')\n",
    "plt.title(\"Visualizing Important Features\")\n",
    "plt.legend()\n",
    "plt.show()"
   ]
  },
  {
   "cell_type": "code",
   "execution_count": null,
   "id": "a495ce89",
   "metadata": {},
   "outputs": [],
   "source": []
  }
 ],
 "metadata": {
  "kernelspec": {
   "display_name": "Python 3 (ipykernel)",
   "language": "python",
   "name": "python3"
  },
  "language_info": {
   "codemirror_mode": {
    "name": "ipython",
    "version": 3
   },
   "file_extension": ".py",
   "mimetype": "text/x-python",
   "name": "python",
   "nbconvert_exporter": "python",
   "pygments_lexer": "ipython3",
   "version": "3.9.7"
  }
 },
 "nbformat": 4,
 "nbformat_minor": 5
}
